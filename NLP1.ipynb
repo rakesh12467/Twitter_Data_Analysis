{
 "cells": [
  {
   "cell_type": "code",
   "execution_count": 5,
   "id": "231bdd22-b305-4953-964e-51362b667127",
   "metadata": {},
   "outputs": [
    {
     "name": "stderr",
     "output_type": "stream",
     "text": [
      "[nltk_data] Downloading package punkt to\n",
      "[nltk_data]     C:\\Users\\DELL\\AppData\\Roaming\\nltk_data...\n",
      "[nltk_data]   Unzipping tokenizers\\punkt.zip.\n",
      "[nltk_data] Downloading package wordnet to\n",
      "[nltk_data]     C:\\Users\\DELL\\AppData\\Roaming\\nltk_data...\n",
      "[nltk_data]   Package wordnet is already up-to-date!\n",
      "[nltk_data] Downloading package averaged_perceptron_tagger to\n",
      "[nltk_data]     C:\\Users\\DELL\\AppData\\Roaming\\nltk_data...\n",
      "[nltk_data]   Unzipping taggers\\averaged_perceptron_tagger.zip.\n"
     ]
    },
    {
     "data": {
      "text/plain": [
       "True"
      ]
     },
     "execution_count": 5,
     "metadata": {},
     "output_type": "execute_result"
    }
   ],
   "source": [
    "import nltk\n",
    "nltk.download('punkt')\n",
    "nltk.download('wordnet')\n",
    "nltk.download('averaged_perceptron_tagger')"
   ]
  },
  {
   "cell_type": "code",
   "execution_count": 7,
   "id": "4af9f92b-4871-44bb-80c1-dcfe785ba3ec",
   "metadata": {},
   "outputs": [
    {
     "name": "stdout",
     "output_type": "stream",
     "text": [
      "Step 1:Sentence Tokenization\n",
      "['Artificial Intelligence is a branch of computer science that aims create intelligent machines.', 'it has become a essential part of the technology industry.']\n"
     ]
    }
   ],
   "source": [
    "import nltk\n",
    "from nltk.tokenize import word_tokenize,sent_tokenize\n",
    "from nltk.stem import PorterStemmer\n",
    "from nltk.stem import WordNetLemmatizer\n",
    "from nltk import pos_tag\n",
    "\n",
    "text=\"\"\"Artificial Intelligence is a branch of computer science that aims create intelligent machines.\n",
    "it has become a essential part of the technology industry.\"\"\"\n",
    "\n",
    "# Step 1:Sentence Tokenization\n",
    "print(\"Step 1:Sentence Tokenization\")\n",
    "sentences=sent_tokenize(text)\n",
    "print(sentences)\n"
   ]
  },
  {
   "cell_type": "code",
   "execution_count": 9,
   "id": "ef1bacf3-905d-4ac9-bccb-d640fcd759c4",
   "metadata": {},
   "outputs": [
    {
     "name": "stdout",
     "output_type": "stream",
     "text": [
      "\n",
      "Step 2: Word Tokenization\n",
      "['Artificial', 'Intelligence', 'is', 'a', 'branch', 'of', 'computer', 'science', 'that', 'aims', 'create', 'intelligent', 'machines', '.', 'it', 'has', 'become', 'a', 'essential', 'part', 'of', 'the', 'technology', 'industry', '.']\n"
     ]
    }
   ],
   "source": [
    "# Step 2:Word Tokenization\n",
    "print(\"\\nStep 2: Word Tokenization\")\n",
    "words = word_tokenize(text)\n",
    "print(words)\n",
    "\n"
   ]
  },
  {
   "cell_type": "code",
   "execution_count": 13,
   "id": "bce01daf-f72c-471a-9b1c-3bf7566f1008",
   "metadata": {},
   "outputs": [
    {
     "name": "stdout",
     "output_type": "stream",
     "text": [
      "\n",
      "Step 2: Stemming\n",
      "['artifici', 'intellig', 'is', 'a', 'branch', 'of', 'comput', 'scienc', 'that', 'aim', 'creat', 'intellig', 'machin', '.', 'it', 'ha', 'becom', 'a', 'essenti', 'part', 'of', 'the', 'technolog', 'industri', '.']\n"
     ]
    }
   ],
   "source": [
    "# Step 3:Stemming (using porter stemmer)\n",
    "print(\"\\nStep 3: Stemming\")\n",
    "stemmer = PorterStemmer()\n",
    "stemmed_words=[stemmer.stem(word)for word in words]\n",
    "print(stemmed_words)"
   ]
  },
  {
   "cell_type": "code",
   "execution_count": 23,
   "id": "4927475c-1a43-4fca-a20c-721cc11ae7ee",
   "metadata": {},
   "outputs": [
    {
     "name": "stdout",
     "output_type": "stream",
     "text": [
      "\n",
      "Step 4: Lemmatization\n",
      "['Artificial', 'Intelligence', 'is', 'a', 'branch', 'of', 'computer', 'science', 'that', 'aim', 'create', 'intelligent', 'machine', '.', 'it', 'ha', 'become', 'a', 'essential', 'part', 'of', 'the', 'technology', 'industry', '.']\n"
     ]
    }
   ],
   "source": [
    "# Step 4:Lemmatization(using wordNet Lemmatization)\n",
    "print(\"\\nStep 4: Lemmatization\")\n",
    "lemmatizer = WordNetLemmatizer()\n",
    "lemmatized_words=[lemmatizer.lemmatize(word)for word in words]\n",
    "print(lemmatized_words)"
   ]
  },
  {
   "cell_type": "code",
   "execution_count": 21,
   "id": "b58d6a07-a634-48f4-a663-f430670c0417",
   "metadata": {},
   "outputs": [
    {
     "name": "stdout",
     "output_type": "stream",
     "text": [
      "\n",
      "Step 5:POS tagging\n",
      "[('Artificial', 'JJ'), ('Intelligence', 'NNP'), ('is', 'VBZ'), ('a', 'DT'), ('branch', 'NN'), ('of', 'IN'), ('computer', 'NN'), ('science', 'NN'), ('that', 'IN'), ('aims', 'VBZ'), ('create', 'JJ'), ('intelligent', 'JJ'), ('machines', 'NNS'), ('.', '.'), ('it', 'PRP'), ('has', 'VBZ'), ('become', 'VBN'), ('a', 'DT'), ('essential', 'JJ'), ('part', 'NN'), ('of', 'IN'), ('the', 'DT'), ('technology', 'NN'), ('industry', 'NN'), ('.', '.')]\n"
     ]
    }
   ],
   "source": [
    "#step 5:pos tagging\n",
    "print(\"\\nStep 5:POS tagging\")\n",
    "pos_tags=pos_tag(words)\n",
    "print(pos_tags)"
   ]
  },
  {
   "cell_type": "code",
   "execution_count": null,
   "id": "cf1d571a-c391-4223-942f-6053f4a96dfb",
   "metadata": {},
   "outputs": [],
   "source": []
  }
 ],
 "metadata": {
  "kernelspec": {
   "display_name": "Python 3 (ipykernel)",
   "language": "python",
   "name": "python3"
  },
  "language_info": {
   "codemirror_mode": {
    "name": "ipython",
    "version": 3
   },
   "file_extension": ".py",
   "mimetype": "text/x-python",
   "name": "python",
   "nbconvert_exporter": "python",
   "pygments_lexer": "ipython3",
   "version": "3.12.4"
  }
 },
 "nbformat": 4,
 "nbformat_minor": 5
}
