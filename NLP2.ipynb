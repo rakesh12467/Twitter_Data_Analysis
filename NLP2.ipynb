{
 "cells": [
  {
   "cell_type": "code",
   "execution_count": 7,
   "id": "e4fff02e-63e5-49ea-bf20-bea70fbc8603",
   "metadata": {},
   "outputs": [],
   "source": [
    "import pandas as pd\n",
    "from sklearn.feature_extraction.text import CountVectorizer\n",
    "from sklearn.model_selection import train_test_split\n",
    "from sklearn.naive_bayes import MultinomialNB\n",
    "from sklearn.metrics import accuracy_score\n",
    "import re"
   ]
  },
  {
   "cell_type": "code",
   "execution_count": 5,
   "id": "6020a1cf-e059-4658-8fe7-ee0e1861182c",
   "metadata": {},
   "outputs": [],
   "source": [
    "#Sample dataset\n",
    "data={\n",
    "    \"review\":[\n",
    "        \"I Loved the movie,it was fantastic!\",\n",
    "        \"The flim was terrible and boring.\",\n",
    "        \"An average movie,nothing special.\",\n",
    "        \"absolutely wonderful experience, highly recommend.\",\n",
    "        \"Not good,not bad,just okay.\",\n",
    "        \"I hate this movie,it was the worst.\"\n",
    "    ],\n",
    "    \"sentiment\":[\"positive\",\"negative\",\"neutral\",\"positive\",\"neutral\",\"negative\"]\n",
    "\n",
    "        \n",
    "\n",
    "}\n",
    "df=pd.DataFrame(data)"
   ]
  },
  {
   "cell_type": "code",
   "execution_count": 9,
   "id": "0404c350-0438-4716-93e2-a26ea343077c",
   "metadata": {},
   "outputs": [],
   "source": [
    "def preprocess(text):\n",
    "    text=text.lower()\n",
    "    text=re.sub(r'[^\\w\\s]','',text)\n",
    "    return text\n",
    "    \n",
    "#preprocess the text data\n",
    "df[\"clean_review\"]=df[\"review\"].apply(preprocess)\n",
    "vectorizer=CountVectorizer()\n",
    "X= vectorizer.fit_transform(df[\"clean_review\"])\n",
    "\n",
    "#target labels (sentiment)\n",
    "y=df[\"sentiment\"]"
   ]
  },
  {
   "cell_type": "code",
   "execution_count": 13,
   "id": "19604d37-cc57-4008-93b2-b6291bebd74c",
   "metadata": {},
   "outputs": [
    {
     "name": "stdout",
     "output_type": "stream",
     "text": [
      "Accuracy:0.50\n"
     ]
    }
   ],
   "source": [
    "#Split data into training and testing sets\n",
    "X_train,X_test,y_train,y_test=train_test_split(X,y,test_size=0.3)\n",
    "\n",
    "#train naive Bayes classifier\n",
    "nb=MultinomialNB()\n",
    "nb.fit(X_train,y_train)\n",
    "\n",
    "#Predict sentiment on test set\n",
    "y_pred = nb.predict(X_test)\n",
    "\n",
    "#Evaluate the model\n",
    "accuracy = accuracy_score(y_test,y_pred)\n",
    "print(f\"Accuracy:{accuracy:.2f}\")\n"
   ]
  },
  {
   "cell_type": "code",
   "execution_count": 15,
   "id": "49c8d08b-62ee-465e-bd53-3823b7938f09",
   "metadata": {},
   "outputs": [
    {
     "name": "stdout",
     "output_type": "stream",
     "text": [
      "Predicted Sentiment:negative\n"
     ]
    }
   ],
   "source": [
    "#Predict the sentiment of a new review\n",
    "new_review=[\"I think the movie was quite boring.\"]\n",
    "new_review_clean=[preprocess(review) for review in new_review]\n",
    "new_review_vectorized=vectorizer.transform(new_review_clean)\n",
    "predicted_sentiment=nb.predict(new_review_vectorized)\n",
    "print(f\"Predicted Sentiment:{predicted_sentiment[0]}\")"
   ]
  },
  {
   "cell_type": "code",
   "execution_count": 30,
   "id": "4818d81c-dbc7-4b9b-ab06-24996819a1e4",
   "metadata": {},
   "outputs": [
    {
     "name": "stdout",
     "output_type": "stream",
     "text": [
      "Accuracy:0.33\n",
      "Predicted Sentiment:negative\n"
     ]
    }
   ],
   "source": [
    "#load dataset from csv file\n",
    "df=pd.read_csv(\"reviews.csv\")\n",
    "def preprocess(text):\n",
    "    return text.lower()\n",
    "\n",
    "#preprocess the review text\n",
    "df[\"clean_review\"]=df[\"review\"].apply(preprocess)\n",
    "vectorizer=CountVectorizer()\n",
    "X= vectorizer.fit_transform(df[\"clean_review\"])\n",
    "\n",
    "#target labels (sentiment)\n",
    "y=df[\"sentiment\"]\n",
    "#Split data into training and testing sets\n",
    "X_train,X_test,y_train,y_test=train_test_split(X,y,test_size=0.3)\n",
    "\n",
    "#train naive Bayes classifier\n",
    "nb=MultinomialNB()\n",
    "nb.fit(X_train,y_train)\n",
    "\n",
    "#Predict sentiment on test set\n",
    "y_pred = nb.predict(X_test)\n",
    "\n",
    "#Evaluate the model\n",
    "accuracy = accuracy_score(y_test,y_pred)\n",
    "print(f\"Accuracy:{accuracy:.2f}\")\n",
    "#Predict the sentiment of a new review\n",
    "new_review=[\"I think the movie was quite boring.\"]\n",
    "new_review_clean=[preprocess(review) for review in new_review]\n",
    "new_review_vectorized=vectorizer.transform(new_review_clean)\n",
    "predicted_sentiment=nb.predict(new_review_vectorized)\n",
    "print(f\"Predicted Sentiment:{predicted_sentiment[0]}\")"
   ]
  },
  {
   "cell_type": "code",
   "execution_count": null,
   "id": "eb1eba3b-85c7-4652-8577-6353a6d4553c",
   "metadata": {},
   "outputs": [],
   "source": []
  }
 ],
 "metadata": {
  "kernelspec": {
   "display_name": "Python 3 (ipykernel)",
   "language": "python",
   "name": "python3"
  },
  "language_info": {
   "codemirror_mode": {
    "name": "ipython",
    "version": 3
   },
   "file_extension": ".py",
   "mimetype": "text/x-python",
   "name": "python",
   "nbconvert_exporter": "python",
   "pygments_lexer": "ipython3",
   "version": "3.12.4"
  }
 },
 "nbformat": 4,
 "nbformat_minor": 5
}
